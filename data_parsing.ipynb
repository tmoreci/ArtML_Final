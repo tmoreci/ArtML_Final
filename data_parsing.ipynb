{
  "nbformat": 4,
  "nbformat_minor": 0,
  "metadata": {
    "colab": {
      "provenance": []
    },
    "kernelspec": {
      "name": "python3",
      "display_name": "Python 3"
    },
    "language_info": {
      "name": "python"
    }
  },
  "cells": [
    {
      "cell_type": "code",
      "execution_count": 1,
      "metadata": {
        "colab": {
          "base_uri": "https://localhost:8080/"
        },
        "id": "C-urE2NxnGrY",
        "outputId": "af306c2b-fc37-4342-b6de-99bd37872fb0"
      },
      "outputs": [
        {
          "output_type": "stream",
          "name": "stdout",
          "text": [
            "Drive already mounted at /content/drive; to attempt to forcibly remount, call drive.mount(\"/content/drive\", force_remount=True).\n"
          ]
        }
      ],
      "source": [
        "import json\n",
        "from google.colab import drive\n",
        "import pandas as pd\n",
        "drive.mount('/content/drive')"
      ]
    },
    {
      "cell_type": "code",
      "source": [
        "\n",
        "f = open('./drive/MyDrive/ArtML/raw_lyrics.json')\n",
        "  \n",
        "# returns JSON object as \n",
        "# a dictionary\n",
        "data = json.load(f)\n",
        "\n",
        "coldplay_data = pd.read_csv(\"./drive/MyDrive/ArtML/ColdPlay.csv\")"
      ],
      "metadata": {
        "id": "4veYd61zn9uN"
      },
      "execution_count": 2,
      "outputs": []
    },
    {
      "cell_type": "code",
      "source": [
        "lyrics = \"\"\n",
        "for song in data:\n",
        "  for key in song:\n",
        "    if key == \"lyrics\":\n",
        "      for line in song[key]:\n",
        "        if line[0] != \"[\":\n",
        "          lyrics += line\n",
        "          lyrics += \" \\n\"\n",
        "\n",
        "coldplay_lyrics = \"\"\n",
        "for song in list(coldplay_data[\"Lyric\"]):\n",
        "  coldplay_lyrics += str(song)"
      ],
      "metadata": {
        "id": "oqDpBy-LqTVn"
      },
      "execution_count": 3,
      "outputs": []
    },
    {
      "cell_type": "code",
      "source": [
        "#open text file\n",
        "text_file = open('./drive/MyDrive/ArtML/mac_lyrics.txt', \"w\")\n",
        " \n",
        "#write string to file\n",
        "text_file.write(lyrics)\n",
        "#text_file.write(coldplay_lyrics) \n",
        "#close file\n",
        "text_file.close()"
      ],
      "metadata": {
        "id": "yw2_tAtmr196"
      },
      "execution_count": 4,
      "outputs": []
    }
  ]
}