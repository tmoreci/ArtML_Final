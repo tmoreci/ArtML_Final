{
  "nbformat": 4,
  "nbformat_minor": 0,
  "metadata": {
    "colab": {
      "provenance": []
    },
    "kernelspec": {
      "name": "python3",
      "display_name": "Python 3"
    },
    "language_info": {
      "name": "python"
    },
    "accelerator": "GPU",
    "gpuClass": "standard"
  },
  "cells": [
    {
      "cell_type": "code",
      "execution_count": 3,
      "metadata": {
        "colab": {
          "base_uri": "https://localhost:8080/"
        },
        "id": "NJ6HEMqXQndX",
        "outputId": "8c6361a1-9b60-46f5-83ba-a93227474169"
      },
      "outputs": [
        {
          "output_type": "stream",
          "name": "stdout",
          "text": [
            "  Preparing metadata (setup.py) ... \u001b[?25l\u001b[?25hdone\n",
            "  Building wheel for gpt-2-simple (setup.py) ... \u001b[?25l\u001b[?25hdone\n"
          ]
        }
      ],
      "source": [
        "!pip install -q gpt-2-simple"
      ]
    },
    {
      "cell_type": "code",
      "source": [
        "# Colab pre-installs many common libraries including TensorFlow.\n",
        "# Use Colab magic command to tell Colab to not use TensorFlow 2.0.\n",
        "import gpt_2_simple as gpt2\n",
        "from datetime import datetime\n",
        "from google.colab import files"
      ],
      "metadata": {
        "id": "ZD5xtUqiQx79"
      },
      "execution_count": 4,
      "outputs": []
    },
    {
      "cell_type": "code",
      "source": [
        "gpt2.download_gpt2(model_name=\"124M\")"
      ],
      "metadata": {
        "colab": {
          "base_uri": "https://localhost:8080/"
        },
        "id": "gOPH3SzBRL4I",
        "outputId": "30c96a5d-7ae4-41fe-c113-9687c8a7ec50"
      },
      "execution_count": 7,
      "outputs": [
        {
          "output_type": "stream",
          "name": "stderr",
          "text": [
            "Fetching checkpoint: 1.05Mit [00:00, 322Mit/s]                                                      \n",
            "Fetching encoder.json: 1.05Mit [00:01, 565kit/s]\n",
            "Fetching hparams.json: 1.05Mit [00:00, 746Mit/s]                                                    \n",
            "Fetching model.ckpt.data-00000-of-00001: 498Mit [01:01, 8.05Mit/s]\n",
            "Fetching model.ckpt.index: 1.05Mit [00:00, 438Mit/s]                                                \n",
            "Fetching model.ckpt.meta: 1.05Mit [00:01, 848kit/s]\n",
            "Fetching vocab.bpe: 1.05Mit [00:01, 852kit/s]\n"
          ]
        }
      ]
    },
    {
      "cell_type": "code",
      "source": [
        "file_name = \"mac_lyrics2.txt\"\n",
        "run_name = 'fine_tuning_run_1'\n",
        "model_size = '124M'"
      ],
      "metadata": {
        "id": "-grdxUZLRRNm"
      },
      "execution_count": 8,
      "outputs": []
    },
    {
      "cell_type": "code",
      "source": [
        "gpt2.mount_gdrive()"
      ],
      "metadata": {
        "colab": {
          "base_uri": "https://localhost:8080/"
        },
        "id": "H7IzIOpSRpbr",
        "outputId": "b4a18fa3-4f6d-45d3-c9bd-517b6bbb97a4"
      },
      "execution_count": 9,
      "outputs": [
        {
          "output_type": "stream",
          "name": "stdout",
          "text": [
            "Mounted at /content/drive\n"
          ]
        }
      ]
    },
    {
      "cell_type": "code",
      "source": [
        "gpt2.copy_file_from_gdrive(file_name)"
      ],
      "metadata": {
        "id": "UQxjfhUzRy7Z"
      },
      "execution_count": 13,
      "outputs": []
    },
    {
      "cell_type": "code",
      "source": [
        "sess = gpt2.start_tf_sess()\n",
        "\n",
        "gpt2.finetune(sess,\n",
        "              dataset=file_name,\n",
        "              model_name=model_size,\n",
        "              steps=200,\n",
        "              restore_from='fresh',\n",
        "              run_name = run_name,\n",
        "              print_every=10,\n",
        "              sample_every=50,\n",
        "              save_every=50)\n",
        "             # , learning_rate=.00003)"
      ],
      "metadata": {
        "colab": {
          "base_uri": "https://localhost:8080/"
        },
        "id": "HOc8g8hcSY3O",
        "outputId": "44834d7b-eed8-4e81-8e93-0af713822b74"
      },
      "execution_count": 14,
      "outputs": [
        {
          "output_type": "stream",
          "name": "stdout",
          "text": [
            "Loading checkpoint models/124M/model.ckpt\n",
            "Loading dataset...\n"
          ]
        },
        {
          "output_type": "stream",
          "name": "stderr",
          "text": [
            "100%|██████████| 1/1 [00:01<00:00,  1.28s/it]\n"
          ]
        },
        {
          "output_type": "stream",
          "name": "stdout",
          "text": [
            "dataset has 305613 tokens\n",
            "Training...\n",
            "[10 | 29.34] loss=3.00 avg=3.00\n",
            "[20 | 52.11] loss=2.71 avg=2.85\n",
            "[30 | 74.56] loss=2.88 avg=2.86\n",
            "[40 | 97.07] loss=2.75 avg=2.83\n",
            "[50 | 119.70] loss=2.35 avg=2.74\n",
            "Saving checkpoint/fine_tuning_run_1/model-50\n",
            "======== SAMPLE 1 ========\n",
            " fuck the drugs and fuck \n",
            "(Don't feel bad) \n",
            "(Don't feel bad) \n",
            "(Don't feel bad) \n",
            "(Don't feel bad) \n",
            "Don't, no, don't, don't, don't \n",
            "And don't, don't, don't, don't (Don't feel bad) \n",
            "Don't, don't, don't, don't (Don't feel bad) \n",
            "Ooh \n",
            "A-ah-ah \n",
            "I'm not here to be some pussy \n",
            "I'm here to try and make you happy \n",
            "I'm here to try and have you happy \n",
            "It's nice to see you love it \n",
            "But I'd rather get the pussy and get you happy (Love it, love it, love it) \n",
            "(Love it, love it) \n",
            "(Don't think he's a fuckin' man, he's a man) \n",
            "(Don't think he's a fuckin' man, he's a man) \n",
            "Yeah \n",
            "Yeah, yeah, yeah, yeah, yeah, yeah ahem \n",
            "Yeah, yeah, yeah, yeah, yeah \n",
            "Yeah, yeah, yeah, yeah \n",
            "Well, I love you, I love you \n",
            "(I love you) \n",
            "(I love you) \n",
            "(I love you) \n",
            "(I love you) \n",
            "(I love you) \n",
            "(I love you) \n",
            "(I love you) (I love you) \n",
            "(I love you) \n",
            "(I love you) \n",
            "Yeah, yeah, yeah, yeah \n",
            "Yeah \n",
            "Yeah, yeah \n",
            "Yeah \n",
            "Yeah \n",
            "Yeah \n",
            "Yeah, yeah \n",
            "Oh, yeah \n",
            "Yeah (Yeah) \n",
            "(Yeah) \n",
            "(Yeah, yeah) \n",
            "Yeah, yeah \n",
            "Yeah \n",
            "(Yeah, yeah)(Yeah) \n",
            "Yeah \n",
            "Yeah) \n",
            "Oh \n",
            "Yeah, yeah \n",
            "Yeah \n",
            "Yeah \n",
            "Yeah, yeah \n",
            "Yeah \n",
            "I hate the thought of you, \n",
            "I hate to think about you \n",
            "You and me, we're just friends, we both love each other \n",
            "We all talk about the game, we both love each other \n",
            "And we all agree that we just play it \n",
            "And we play it and we play it and we play it, we've been playin' it \n",
            "And we'll make it forever, we don't talk like the other guys do, let's just roll up and play \n",
            "Yeah, you know that, I know that \n",
            "But that don't matter, don't matter \n",
            "Yeah, I can see a better way \n",
            "When I get you in the car, get out, pull the car up \n",
            "Just pull up the drive so you can leave (Drive, car) \n",
            "I can see a better way, and I can take your place (Take your place, right) \n",
            "If you want a place in my house (Take my place, right) \n",
            "There's plenty of places to fit in \n",
            "And I'm ready for everything, there's nowhere in my mind (Oh God, God, God, God, what do you want?) \n",
            "It's a little bit scary, I could see a way in but it's more like a bit of work and not much money but I can go (And I can go, yeah) (Yeah) \n",
            "I've always been there to find the home that makes me happy \n",
            "Always been around this kid that is special I can make it (Yeah) \n",
            "(Yeah) \n",
            "(Yeah) \n",
            "Yeah \n",
            "Yeah \n",
            "(Yeah) \n",
            "Yep \n",
            "Yeah \n",
            "Yeah (Yeah) (Yeah) \n",
            "I love you (Yeah) (Yeah) \n",
            "(Yeah) \n",
            "The money that you make is the money that you need \n",
            "I love you (Yeah) (Yeah) \n",
            "(Yeah) \n",
            "Yeah, yeah, yeah, yeah, yeah \n",
            "Yeah, yeah (Yeah) \n",
            "Yeah, yeah, yeah \n",
            "Ain't easy (Ain't easy) \n",
            "All the times (Ain't easy) \n",
            "Yeah, we're in love (Love) \n",
            "(We're in love) \n",
            "(Yeah) \n",
            "Yeah, yeah, yeah, yeah, yeah, yeah \n",
            "Yeah \n",
            "Yeah, yeah, yeah, yeah \n",
            "Yeah, yeah, yeah, yeah, yeah (Yeah) \n",
            "Hey (Hey (Hey) \n",
            "I love you \n",
            "Yeah, yeah \n",
            "Yeah, yeah, yeah, yeah, yeah \n",
            "Um (Uh) \n",
            "Yeah (Yeah) (Yeah) \n",
            "Uh, uh, uh, yeah \n",
            "Hey-Hey (Hey) \n",
            "Okay, (Uh-huh-huh) \n",
            "\n",
            "\n",
            "[60 | 158.38] loss=2.56 avg=2.71\n",
            "[70 | 180.97] loss=2.45 avg=2.67\n",
            "[80 | 203.51] loss=2.55 avg=2.65\n",
            "[90 | 226.04] loss=2.37 avg=2.62\n",
            "[100 | 248.58] loss=2.37 avg=2.59\n",
            "Saving checkpoint/fine_tuning_run_1/model-100\n"
          ]
        },
        {
          "output_type": "stream",
          "name": "stderr",
          "text": [
            "WARNING:tensorflow:From /usr/local/lib/python3.9/dist-packages/tensorflow/python/training/saver.py:1067: remove_checkpoint (from tensorflow.python.checkpoint.checkpoint_management) is deprecated and will be removed in a future version.\n",
            "Instructions for updating:\n",
            "Use standard file APIs to delete files with this prefix.\n"
          ]
        },
        {
          "output_type": "stream",
          "name": "stdout",
          "text": [
            "======== SAMPLE 1 ========\n",
            " hard to find out, gotta just find somebody to talk to'\n",
            "I don't need your money, I have a good time \n",
            "It's easy to just see myself as a dream \n",
            "Now I'm just a human, not just this, this, this, this \n",
            "Oh-oh, oh-oh-oh. [Coughing] \n",
            "Yeah, this a rush, this a rush \n",
            "Yeah, this a rush \n",
            "And now (yeah) I'm just some kid on my own \n",
            "That's not me, that's real, that's real \n",
            "It's okay when I feel like it, I can't hold back (yeah) \n",
            "I'm a superhero \n",
            "It's always good to see you \n",
            "Yeah, all these years I've been a superhero \n",
            "You never gonna find me \n",
            "But I'll be alright, so take it slow (yeah) \n",
            "Ayy (Yeah, yeah) \n",
            "Oh-oh (yeah) \n",
            "Oh-oh-oh \n",
            "Hey, hey \n",
            "All these years I've been a superhero \n",
            "You never gonna find me \n",
            "But I'll be alright, so take it slow (yeah) \n",
            "Ayy (Yeah) \n",
            "Oh-oh (yeah) \n",
            "Oh-oh-oh, oh-oh \n",
            "Hey, hey \n",
            "I feel a little bit lonely, yeah \n",
            "My mother told me she love me, yeah \n",
            "Yeah-yeah \n",
            "I love a good fight, yeah \n",
            "Yeah-yeah \n",
            "When I'm down my shit, I'm the one at the top \n",
            "Yeah, yeah, yeah \n",
            "Woo, yeah- yeah \n",
            "Yeah-yeah \n",
            "Uh-huh \n",
            "Oh, fuck it I'm a freak, yeah \n",
            "Yeah \n",
            "Look at me, look at my face \n",
            "All of you little homies that I admire \n",
            "'Cause I don't need you to go 'round \n",
            "I might be, you'll be too close to me like you was a child \n",
            "You never gonna find me \n",
            "But I'll be alright, so take it slow \n",
            "Ayy (Yeah, yeah) \n",
            "Yeah (Yeah, yeah) \n",
            "Oh-oh \n",
            "Hey, hey \n",
            "Yeah-yeah \n",
            "Yeah, yeah \n",
            "Hey hey \n",
            "Oh-oh \n",
            "Hey hey, hey \n",
            "Yeah-yeah \n",
            "I'm a superhero \n",
            "It's always good to see you (Wow) \n",
            "You know it's a good feeling \n",
            "All these years I've been a superhero \n",
            "You never gonna find me (Yeah) \n",
            "But I'll be alright, so take it slow \n",
            "Ayy I know it feels good to be alone \n",
            "And everybody has a little extra in case \n",
            "Yeah (Yeah) \n",
            "So go on and on \n",
            "Say I'ma stay high \n",
            "Take my time \n",
            "And everyone's in the right mood \n",
            "Say, I'ma stay high, gotta go (Yeah) \n",
            "Say I'ma stay high, gotta go \n",
            "Say I'ma stay high, gotta go \n",
            "Say I'ma stay high, gotta go, yeah \n",
            "Say I'ma stay high, gotta go \n",
            "It's hard to turn a dream into reality \n",
            "You never gonna find me (Yep) \n",
            "Oh \n",
            "Uh \n",
            "Ah, ah \n",
            "Ah, ah \n",
            "Ah, ah, ah, ah-Ah \n",
            "Ah, ah, ah \n",
            "Ah-Ooh \n",
            "Ooh-oh-oh \n",
            "Uh-oh \n",
            "Uh, uh, uh-oh, uh-uh \n",
            "Uh, uh, uh \n",
            "Ayy \n",
            "Ah, ah \n",
            "Ah, ah, ah \n",
            "Ah, ah, ah, ah-Ah, ah \n",
            "Ah, ah, ah-ooh-ow \n",
            "(Uh-oh-hh-uh) Yeah \n",
            "Yeah, yeah \n",
            "Uh \n",
            "Ah-oh-oh \n",
            "Ah, yeah \n",
            "Ah, uh \n",
            "Oh-oh \n",
            "Oh \n",
            "Ah, ah-oh \n",
            "Oh-oh \n",
            "Ah-oh \n",
            "Uh-oh: Oh, oh, oh \n",
            "Oh, oh, oh, oh, oh, uh \n",
            "Oh, um \n",
            "Um, um (Uh-oh) \n",
            "Hey \n",
            "I'm, uh, uh \n",
            "Oh, uh (Uh-huh) \n",
            "Uh-oh: Uh, uh \n",
            "Oh, uh, uh-huh \n",
            "Oh, uh \n",
            "Oh, um (Uh-oh) \n",
            "Oh, uh-oh (Uh-oh) \n",
            "Oh, uh-oh (Uh-oh) \n",
            "Uh-oh (Ah-oh-oh) \n",
            "Oh, uh-oh \n",
            "Oh, oh, uh\n",
            "\n",
            "[110 | 285.00] loss=2.77 avg=2.61\n",
            "[120 | 307.60] loss=2.48 avg=2.60\n",
            "[130 | 330.16] loss=2.36 avg=2.58\n",
            "[140 | 352.70] loss=2.37 avg=2.56\n",
            "[150 | 375.24] loss=2.13 avg=2.53\n",
            "Saving checkpoint/fine_tuning_run_1/model-150\n",
            "======== SAMPLE 1 ========\n",
            " \n",
            "A-a-bah, ain't nothin' but time, ain't nobody in my class (Uh-huh). (Uh-huh), um, uh, uh (Uh-huh) \n",
            "A-a-bah, Ain't nothin' but time, ain't nobody in my class (Uh-huh) \n",
            "A-a-bah, Uh-huh, man \n",
            "Yeah \n",
            "The kid in the car \n",
            "Yeah, \n",
            "A-a-bah, ain't nothin' but time \n",
            "Yeah, \n",
            "Hey, the kid in the car \n",
            "Let's go home \n",
            "We gonna make some shit up, baby \n",
            "Let's go home (Yeah, we gonna make some shit up) \n",
            "Ayo, it's Mac Miller \n",
            "You get some cash \n",
            "Let's make some shit up, baby \n",
            "Let's go home \n",
            "We gonna make some shit up, baby \n",
            "Let's go home (All right) \n",
            "Yeah \n",
            "The kid in the car \n",
            "Yeah, \n",
            "Hey, Mac Miller \n",
            "We gonna make some shit up, baby \n",
            "Let's go home \n",
            "We gonna make some shit up, baby \n",
            "Let's go home (That's another) \n",
            "Let's make some shit up, baby \n",
            "Let's go home (Yeah, yeah, yeah) \n",
            "Well, that's one hell of a song \n",
            "Yeah, and I'm all set to do that \n",
            "Alright, okay we all go \n",
            "And I'm just in awe of the way you have no control \n",
            "You can't even make a sound \n",
            "And just play the melody \n",
            "And watch it grow \n",
            "Well, that's one hell of a song, baby \n",
            "Well, that's one hell of a song \n",
            "And you just like it, don't you know it 'cause you are so precious \n",
            "You are so blessed, baby \n",
            "And the only thing we ever know is what you have to say \n",
            "I, I don't’t see why you should know \n",
            "Ayy, \n",
            "That's what I know, ain't nothin' but time \n",
            "It's just been so nice to be out here \n",
            "It's been so nice to be back in here \n",
            "I just wanna keep on goin' \n",
            "Yeah, and the melody always is \n",
            "And you need not to worry \n",
            "It's just been so nice \n",
            "Hey, can I have a word with some friends? \n",
            "Hey, can I have a word with some friends? \n",
            "(Oh, yeah, you have to be patient) \n",
            "We all always need each other \n",
            "(Yeah, you must be patient) \n",
            "(Uh—I told you I would— oh, oh-oh) \n",
            "(Yes, it is so important to you, I just want you back) \n",
            "Oh, yeah \n",
            "It all depends on where we go \n",
            "How do we get back up in the sky? \n",
            "If we don't, where will we go? \n",
            "(I know, I know, I know, I know, I know) \n",
            "I just gotta love you \n",
            "When you got the heat on, who you gonna be? \n",
            "You like to show off when you out here, don't you? (Okay) I like to be outside and hear the raps, huh? \n",
            "Do you mind if I tell you I love you? \n",
            "(Hmm-hm) \n",
            "Just take it slow, baby \n",
            "(Oh-hahaha) \n",
            "I just gotta love you \n",
            "When you got the heat on, who you gonna be? \n",
            "You like to be outside and hear the raps, hun \n",
            "(Hmm-hm) \n",
            "Just need one more minute to get me up \n",
            "(Okay, good) \n",
            "(Okay) (I can't let you down) \n",
            "Oh, please let me go \n",
            "(Okay, good, good) \n",
            "Oh, yeah, good sound from the other end \n",
            "There's nothin' but time \n",
            "There's nothin' but time to be gone \n",
            "Oh, oh, don't you ever want to go \n",
            "They ask you, \"Who's next?\" \n",
            "What's the most important thing? \n",
            "Okay, I just gotta love you \n",
            "When you got the heat on, who you gonna be? \n",
            "You like to show off when you out here, don't you? \n",
            "Do you mind if I tell you I love you? \n",
            "Oh-hahaha \n",
            "Don't you mind if I know I love you? \n",
            "Hey, it's been a while, I'm sorry \n",
            "The only time I can remember \n",
            "No more, just a little, just a little, a little\n",
            "\n",
            "[160 | 412.01] loss=2.43 avg=2.53\n",
            "[170 | 434.64] loss=2.39 avg=2.52\n",
            "[180 | 457.19] loss=2.32 avg=2.51\n",
            "[190 | 479.70] loss=2.26 avg=2.49\n",
            "[200 | 502.24] loss=2.12 avg=2.47\n",
            "Saving checkpoint/fine_tuning_run_1/model-200\n"
          ]
        }
      ]
    },
    {
      "cell_type": "code",
      "source": [
        "print(run_name)"
      ],
      "metadata": {
        "colab": {
          "base_uri": "https://localhost:8080/"
        },
        "id": "fseXz8FSWEIy",
        "outputId": "157de379-3b43-4f58-a241-fe20d10b39ca"
      },
      "execution_count": 15,
      "outputs": [
        {
          "output_type": "stream",
          "name": "stdout",
          "text": [
            "fine_tuning_run_1\n"
          ]
        }
      ]
    },
    {
      "cell_type": "code",
      "source": [
        "import tensorflow as tf\n",
        "tf.compat.v1.reset_default_graph()"
      ],
      "metadata": {
        "id": "BeERPMExWM_p"
      },
      "execution_count": 16,
      "outputs": []
    },
    {
      "cell_type": "code",
      "source": [
        "# Load the model.\n",
        "sess = gpt2.start_tf_sess()\n",
        "gpt2.load_gpt2(sess, run_name=run_name)"
      ],
      "metadata": {
        "colab": {
          "base_uri": "https://localhost:8080/"
        },
        "id": "tDZAr3JjXMl9",
        "outputId": "9060f9f4-6a5c-47e5-e1d1-3406c832215e"
      },
      "execution_count": 17,
      "outputs": [
        {
          "output_type": "stream",
          "name": "stdout",
          "text": [
            "Loading checkpoint checkpoint/fine_tuning_run_1/model-200\n"
          ]
        }
      ]
    },
    {
      "cell_type": "code",
      "source": [
        "gpt2.generate(sess, run_name=run_name, temperature=.7, length=100, prefix=None, top_k=40, nsamples=10)"
      ],
      "metadata": {
        "colab": {
          "base_uri": "https://localhost:8080/"
        },
        "id": "fqLf5iABXRHc",
        "outputId": "2bef2e7d-0f42-442c-89a6-19186615fcdb"
      },
      "execution_count": null,
      "outputs": [
        {
          "output_type": "stream",
          "name": "stdout",
          "text": [
            "I'm like a motherfuckin' child \n",
            "I'm like a motherfuckin' child \n",
            "It's like, \"No more, no more\" \n",
            "I'm like a motherfuckin' child \n",
            "I'm like a motherfuckin' child \n",
            "I'm like a motherfuckin' child \n",
            "I'm like a motherfuckin' child \n",
            "Yeah, yeah \n",
            "Yeah \n",
            "Well, I'ma be alright \n",
            "Yeah \n",
            "Yeah\n",
            "====================\n",
            "I know that you want to see me get along with everyone around me, I know that you want to see me get along with everyone around me, I know that you want to see me get along with everyone around me, I know that you want to see me get along with everyone around me, I know that you want to see me get along with everybody around me, I know that you want to see me get along with everybody around me, I know that you want to see me get along\n",
            "====================\n",
            "I don't know what I've been up to lately, but I've been chillin' (Yeah) \n",
            "I don't know what I've been up to lately, but it seem to be on the right track (Yeah) \n",
            "I keep coming back, 'cause you always seem to be coming back \n",
            "If you don't stop, all the time, that's all it takes (Yeah) \n",
            "I don't know what I've been up to lately, but I\n",
            "====================\n",
            "I'm out, I'm out, I'm out, I'm out, I'm out, I'm out, I'm out, I'm out, I'm out, I'm out, and out, I'm out, I'm out, I'm out, I'm out, I'm out, I'm out, and I'm out, I'm out, and I'm out, I'm out, and I'm out, I'm out, I'm out, I'm\n",
            "====================\n",
            "What you got?\n",
            "A bottle of whiskey, some weed, then some weed and some weed (Yeah) \n",
            "I got a bunch of weed, I got a bunch of weed (Yeah) \n",
            "I got a bunch of weed, I got a bunch of weed, and a bunch of weed \n",
            "I got a bunch of weed, I got a bunch of weed, and a bunch of weed \n",
            "I got a bunch of weed, I got a bunch of weed, and a\n",
            "====================\n",
            "I hate the way that they treat me, I hate that shit, I hate that shit \n",
            "I hate the way that they treat me \n",
            "I hate the way that they treat me \n",
            "I hate the way that they treat me \n",
            "I hate the way that they treat me \n",
            "I hate the way that they treat me \n",
            "I hate the way that they treat me \n",
            "I hate the way that they treat me \n",
            "I hate the way that they treat me \n",
            "\n",
            "====================\n",
            "I just wanna see her in a red dress \n",
            "I just wanna see her in a red dress \n",
            "I just wanna see her in a red dress \n",
            "I just wanna see her in a red dress \n",
            "I just wanna see her in a red dress \n",
            "I just wanna see her in a red dress \n",
            "I just wanna see her in a red dress \n",
            "I just wanna see her in a red dress \n",
            "I just wanna see her in a red dress \n",
            "I\n",
            "====================\n",
            "Here's a little taste of it, baby! \n",
            "The only way we can make it right is if we can get crazy \n",
            "I know the music is coming, but it's hard for me to feel \n",
            "I want you to feel it, baby, feel it \n",
            "I know the music is coming, but it's hard for me to feel \n",
            "I want you to feel it, baby, feel it \n",
            "I know the music is coming, but it's hard for\n",
            "====================\n",
            "It's hard to sleep tonight (It's hard to sleep tonight) \n",
            "It's hard to sleep tonight (It's hard to sleep tonight) \n",
            "It's hard to sleep tonight (It's hard to sleep tonight) \n",
            "It's hard to sleep tonight (It's hard to sleep tonight) \n",
            "I'm just tryna get through to you (It's hard to sleep tonight) (It's hard to sleep tonight) \n",
            "I'm just tryna get through to you\n",
            "====================\n",
            "What's up?\n",
            "I don't wanna do that shit again \n",
            "Okay, you might be the only one who love me, but you don't need to \n",
            "You haven't seen me yet \n",
            "I already told you, it's just a song \n",
            "I don't wanna do that shit again \n",
            "What's up? \n",
            "Just a thought, I'm just a thought \n",
            "I don't wanna do that shit again \n",
            "What's up? \n",
            "Well,\n",
            "====================\n"
          ]
        }
      ]
    },
    {
      "cell_type": "code",
      "source": [
        "input_prompt = \"About to graduate\"\n",
        "gpt2.generate(sess, run_name=run_name, temperature=.7, length=100, prefix=input_prompt, top_k=40, nsamples=5)"
      ],
      "metadata": {
        "colab": {
          "base_uri": "https://localhost:8080/",
          "height": 336
        },
        "id": "HJXhiBGUXzXH",
        "outputId": "3b106654-0c29-4534-ceb8-e747b3919dce"
      },
      "execution_count": 12,
      "outputs": [
        {
          "output_type": "error",
          "ename": "FileNotFoundError",
          "evalue": "ignored",
          "traceback": [
            "\u001b[0;31m---------------------------------------------------------------------------\u001b[0m",
            "\u001b[0;31mFileNotFoundError\u001b[0m                         Traceback (most recent call last)",
            "\u001b[0;32m<ipython-input-12-9c837a2eedf3>\u001b[0m in \u001b[0;36m<cell line: 2>\u001b[0;34m()\u001b[0m\n\u001b[1;32m      1\u001b[0m \u001b[0minput_prompt\u001b[0m \u001b[0;34m=\u001b[0m \u001b[0;34m\"About to graduate\"\u001b[0m\u001b[0;34m\u001b[0m\u001b[0;34m\u001b[0m\u001b[0m\n\u001b[0;32m----> 2\u001b[0;31m \u001b[0mgpt2\u001b[0m\u001b[0;34m.\u001b[0m\u001b[0mgenerate\u001b[0m\u001b[0;34m(\u001b[0m\u001b[0msess\u001b[0m\u001b[0;34m,\u001b[0m \u001b[0mrun_name\u001b[0m\u001b[0;34m=\u001b[0m\u001b[0mrun_name\u001b[0m\u001b[0;34m,\u001b[0m \u001b[0mtemperature\u001b[0m\u001b[0;34m=\u001b[0m\u001b[0;36m.7\u001b[0m\u001b[0;34m,\u001b[0m \u001b[0mlength\u001b[0m\u001b[0;34m=\u001b[0m\u001b[0;36m100\u001b[0m\u001b[0;34m,\u001b[0m \u001b[0mprefix\u001b[0m\u001b[0;34m=\u001b[0m\u001b[0minput_prompt\u001b[0m\u001b[0;34m,\u001b[0m \u001b[0mtop_k\u001b[0m\u001b[0;34m=\u001b[0m\u001b[0;36m40\u001b[0m\u001b[0;34m,\u001b[0m \u001b[0mnsamples\u001b[0m\u001b[0;34m=\u001b[0m\u001b[0;36m5\u001b[0m\u001b[0;34m)\u001b[0m\u001b[0;34m\u001b[0m\u001b[0;34m\u001b[0m\u001b[0m\n\u001b[0m",
            "\u001b[0;32m/usr/local/lib/python3.9/dist-packages/gpt_2_simple/gpt_2.py\u001b[0m in \u001b[0;36mgenerate\u001b[0;34m(sess, run_name, checkpoint_dir, model_name, model_dir, sample_dir, return_as_list, truncate, destination_path, sample_delim, prefix, seed, nsamples, batch_size, length, temperature, top_k, top_p, include_prefix)\u001b[0m\n\u001b[1;32m    448\u001b[0m         \u001b[0mcheckpoint_path\u001b[0m \u001b[0;34m=\u001b[0m \u001b[0mos\u001b[0m\u001b[0;34m.\u001b[0m\u001b[0mpath\u001b[0m\u001b[0;34m.\u001b[0m\u001b[0mjoin\u001b[0m\u001b[0;34m(\u001b[0m\u001b[0mcheckpoint_dir\u001b[0m\u001b[0;34m,\u001b[0m \u001b[0mrun_name\u001b[0m\u001b[0;34m)\u001b[0m\u001b[0;34m\u001b[0m\u001b[0;34m\u001b[0m\u001b[0m\n\u001b[1;32m    449\u001b[0m \u001b[0;34m\u001b[0m\u001b[0m\n\u001b[0;32m--> 450\u001b[0;31m     \u001b[0menc\u001b[0m \u001b[0;34m=\u001b[0m \u001b[0mencoder\u001b[0m\u001b[0;34m.\u001b[0m\u001b[0mget_encoder\u001b[0m\u001b[0;34m(\u001b[0m\u001b[0mcheckpoint_path\u001b[0m\u001b[0;34m)\u001b[0m\u001b[0;34m\u001b[0m\u001b[0;34m\u001b[0m\u001b[0m\n\u001b[0m\u001b[1;32m    451\u001b[0m     \u001b[0mhparams\u001b[0m \u001b[0;34m=\u001b[0m \u001b[0mmodel\u001b[0m\u001b[0;34m.\u001b[0m\u001b[0mdefault_hparams\u001b[0m\u001b[0;34m(\u001b[0m\u001b[0;34m)\u001b[0m\u001b[0;34m\u001b[0m\u001b[0;34m\u001b[0m\u001b[0m\n\u001b[1;32m    452\u001b[0m     \u001b[0;32mwith\u001b[0m \u001b[0mopen\u001b[0m\u001b[0;34m(\u001b[0m\u001b[0mos\u001b[0m\u001b[0;34m.\u001b[0m\u001b[0mpath\u001b[0m\u001b[0;34m.\u001b[0m\u001b[0mjoin\u001b[0m\u001b[0;34m(\u001b[0m\u001b[0mcheckpoint_path\u001b[0m\u001b[0;34m,\u001b[0m \u001b[0;34m'hparams.json'\u001b[0m\u001b[0;34m)\u001b[0m\u001b[0;34m)\u001b[0m \u001b[0;32mas\u001b[0m \u001b[0mf\u001b[0m\u001b[0;34m:\u001b[0m\u001b[0;34m\u001b[0m\u001b[0;34m\u001b[0m\u001b[0m\n",
            "\u001b[0;32m/usr/local/lib/python3.9/dist-packages/gpt_2_simple/src/encoder.py\u001b[0m in \u001b[0;36mget_encoder\u001b[0;34m(checkpoint_path)\u001b[0m\n\u001b[1;32m    107\u001b[0m \u001b[0;34m\u001b[0m\u001b[0m\n\u001b[1;32m    108\u001b[0m \u001b[0;32mdef\u001b[0m \u001b[0mget_encoder\u001b[0m\u001b[0;34m(\u001b[0m\u001b[0mcheckpoint_path\u001b[0m\u001b[0;34m)\u001b[0m\u001b[0;34m:\u001b[0m\u001b[0;34m\u001b[0m\u001b[0;34m\u001b[0m\u001b[0m\n\u001b[0;32m--> 109\u001b[0;31m     \u001b[0;32mwith\u001b[0m \u001b[0mopen\u001b[0m\u001b[0;34m(\u001b[0m\u001b[0mos\u001b[0m\u001b[0;34m.\u001b[0m\u001b[0mpath\u001b[0m\u001b[0;34m.\u001b[0m\u001b[0mjoin\u001b[0m\u001b[0;34m(\u001b[0m\u001b[0mcheckpoint_path\u001b[0m\u001b[0;34m,\u001b[0m \u001b[0;34m'encoder.json'\u001b[0m\u001b[0;34m)\u001b[0m\u001b[0;34m,\u001b[0m \u001b[0;34m'r'\u001b[0m\u001b[0;34m)\u001b[0m \u001b[0;32mas\u001b[0m \u001b[0mf\u001b[0m\u001b[0;34m:\u001b[0m\u001b[0;34m\u001b[0m\u001b[0;34m\u001b[0m\u001b[0m\n\u001b[0m\u001b[1;32m    110\u001b[0m         \u001b[0mencoder\u001b[0m \u001b[0;34m=\u001b[0m \u001b[0mjson\u001b[0m\u001b[0;34m.\u001b[0m\u001b[0mload\u001b[0m\u001b[0;34m(\u001b[0m\u001b[0mf\u001b[0m\u001b[0;34m)\u001b[0m\u001b[0;34m\u001b[0m\u001b[0;34m\u001b[0m\u001b[0m\n\u001b[1;32m    111\u001b[0m     \u001b[0;32mwith\u001b[0m \u001b[0mopen\u001b[0m\u001b[0;34m(\u001b[0m\u001b[0mos\u001b[0m\u001b[0;34m.\u001b[0m\u001b[0mpath\u001b[0m\u001b[0;34m.\u001b[0m\u001b[0mjoin\u001b[0m\u001b[0;34m(\u001b[0m\u001b[0mcheckpoint_path\u001b[0m\u001b[0;34m,\u001b[0m \u001b[0;34m'vocab.bpe'\u001b[0m\u001b[0;34m)\u001b[0m\u001b[0;34m,\u001b[0m \u001b[0;34m'r'\u001b[0m\u001b[0;34m,\u001b[0m \u001b[0mencoding\u001b[0m\u001b[0;34m=\u001b[0m\u001b[0;34m\"utf-8\"\u001b[0m\u001b[0;34m)\u001b[0m \u001b[0;32mas\u001b[0m \u001b[0mf\u001b[0m\u001b[0;34m:\u001b[0m\u001b[0;34m\u001b[0m\u001b[0;34m\u001b[0m\u001b[0m\n",
            "\u001b[0;31mFileNotFoundError\u001b[0m: [Errno 2] No such file or directory: 'checkpoint/fine_tuning_run_1/encoder.json'"
          ]
        }
      ]
    },
    {
      "cell_type": "code",
      "source": [
        "input_prompt = \"School's almost out\"\n",
        "gpt2.generate(sess, run_name=run_name, temperature=.7, length=100, prefix=input_prompt, top_k=40, nsamples=5)"
      ],
      "metadata": {
        "colab": {
          "base_uri": "https://localhost:8080/"
        },
        "id": "ivOcZL0UYJr5",
        "outputId": "ba37d991-7a8e-412b-fea0-6b2bd5023b1d"
      },
      "execution_count": null,
      "outputs": [
        {
          "output_type": "stream",
          "name": "stdout",
          "text": [
            "School's almost out, I'm just tryna find a way \n",
            "I can find my way back home, get my life back \n",
            "I don't know what I'm supposed to do \n",
            "But I know that I'ma do \n",
            "And if I can get this far \n",
            "I don't need another one \n",
            "Oh, I don't need another one \n",
            "Yeah \n",
            "I know you are always there \n",
            "I know that you always there \n",
            "I'm always there \n",
            "I\n",
            "====================\n",
            "School's almost out the door, I could take a nap, I just want to hold onto \n",
            "I ain't no criminal, I'm just a kid that likes to talk \n",
            "I'ma give it all back if you let me \n",
            "I ain't no criminal, I'm just a kid that likes to talk \n",
            "I ain't no criminal, I'm just a kid that likes to talk \n",
            "I ain't no criminal, I'm just a kid that likes to talk \n",
            "I ain\n",
            "====================\n",
            "School's almost out) \n",
            "We don't really know shit, but this shit is dope, yeah \n",
            "We don't really know shit, but this shit is dope \n",
            "We don't really know shit, but this shit is dope \n",
            "We don't really know shit, but this shit is dope \n",
            "We don't really know shit, but this shit is dope \n",
            "Yeah \n",
            "I got a problem \n",
            "And I don't know why I don't know why \n",
            "I don't\n",
            "====================\n",
            "School's almost out the door! \n",
            "I'ma just go inside and see the outside world \n",
            "And I don't think I'm alone, I'ma be there \n",
            "I'll be there when you're gone, I'll be there when you're gone \n",
            "I'ma be there when you're away \n",
            "When you're gone, I'll be there when you're gone \n",
            "I'ma be there when you're there \n",
            "When you're there \n",
            "When you're there\n",
            "====================\n",
            "School's almost out the door)\n",
            "\n",
            "(Yeah) But now I'm done with this bitch (This bitch)\n",
            "\n",
            "(Yeah) And I'm just gon' get it over here (Get it over here)\n",
            "\n",
            "(Okay) Yeah, I'm a motherfuckin' bitch (Motherfuckin' bitch)\n",
            "\n",
            "(Okay) Yeah, I'm a motherfuckin' bitch (Okay)\n",
            "\n",
            "Yeah, I'm a motherfuckin' bitch (Okay)\n",
            "\n",
            "Yeah,\n",
            "====================\n"
          ]
        }
      ]
    },
    {
      "cell_type": "code",
      "source": [
        "input_prompt = \"The weather is getting warmer\"\n",
        "gpt2.generate(sess, run_name=run_name, temperature=.7, length=100, prefix=input_prompt, top_k=40, nsamples=5)"
      ],
      "metadata": {
        "colab": {
          "base_uri": "https://localhost:8080/"
        },
        "id": "X7nI6M8AYtqi",
        "outputId": "701d22f3-0798-4567-970c-ef81137a8140"
      },
      "execution_count": null,
      "outputs": [
        {
          "output_type": "stream",
          "name": "stdout",
          "text": [
            "The weather is getting warmer, I'm ready to go\" \n",
            "I'm ready to go, don't you worry \n",
            "I'm ready to go, don't you worry \n",
            "I'm ready to go, don't you worry \n",
            "I'm ready to go, don't you worry \n",
            "I'm ready to go, don't you worry \n",
            "I'm ready to go, don't you worry \n",
            "I'm ready to go, don't you worry \n",
            "I'm ready to go, don\n",
            "====================\n",
            "The weather is getting warmer, it's getting colder \n",
            "My mind is always on the road \n",
            "I never get bored with the grind \n",
            "We all just go about our business \n",
            "Yeah, I'ma keep it going, yeah \n",
            "I'll be goin' til the last minute \n",
            "I'ma keep it goin', yeah \n",
            "I'll be goin' til the last minute \n",
            "I'ma keep it goin', yeah \n",
            "I'll be goin' til the\n",
            "====================\n",
            "The weather is getting warmer, so I'm cooking up some bread \n",
            "I'm eating healthy, got some carbs, so I'm cooking up some bread \n",
            "I'm eating healthy, got some carbs, so I'm cooking up some bread \n",
            "I'm eating healthy, got some carbs, so I'm cooking up some bread \n",
            "I'm eating healthy, got some carbs, so I'm cooking up some bread \n",
            "I'm eating healthy, got some carbs, so I'm cooking up some bread \n",
            "\n",
            "====================\n",
            "The weather is getting warmer, so I'm just chilling out in the city \n",
            "I got a bunch of hoes, I'ma take 'em anywhere \n",
            "I'ma keep them hoes, they keep me safe \n",
            "I'ma keep 'em safe, keep 'em safe \n",
            "Keep 'em safe, keep 'em safe \n",
            "Keep 'em safe, keep 'em safe \n",
            "Gotta keep 'em safe, keep 'em safe \n",
            "Keep 'em safe, keep 'em\n",
            "====================\n",
            "The weather is getting warmer, I'm headed home soon \n",
            "I'm headed home soon \n",
            "Yeah, I'm headed home soon \n",
            "I'm headed home soon \n",
            "I'm headed home soon \n",
            "I'm headed home \n",
            "I'm headed home \n",
            "I'm headed home \n",
            "I'm headed home \n",
            "Yeah, yeah \n",
            "I'm headed home \n",
            "Yeah, yeah \n",
            "Yeah, yeah \n",
            "I'm headed home \n",
            "Yeah, yeah \n",
            "Yeah, yeah \n",
            "I\n",
            "====================\n"
          ]
        }
      ]
    },
    {
      "cell_type": "code",
      "source": [
        "input_prompt = \"Part of me is sad\"\n",
        "gpt2.generate(sess, run_name=run_name, temperature=.7, length=100, prefix=input_prompt, top_k=40, nsamples=5)"
      ],
      "metadata": {
        "colab": {
          "base_uri": "https://localhost:8080/"
        },
        "id": "WDCGbbOBZtXh",
        "outputId": "4b03a577-6878-4864-f2df-c81c2cb6faf4"
      },
      "execution_count": null,
      "outputs": [
        {
          "output_type": "stream",
          "name": "stdout",
          "text": [
            "Part of me is sad \n",
            "I can't sleep at night \n",
            "It's all my fault \n",
            "The drugs keep my eyes glued \n",
            "I keep my head down, feel the breeze \n",
            "I'm always in the game, so keep me high \n",
            "I'm always in the game, so keep me high \n",
            "I'm always in the game, so keep me high \n",
            "I'm always in the game, so keep me high \n",
            "I'm always in the game, so keep me high \n",
            "====================\n",
            "Part of me is sad \n",
            "But I'm just tryna live my life \n",
            "I'm just tryna live my life \n",
            "I don't wanna die, I don't wanna die \n",
            "I don't wanna die, I don't wanna die \n",
            "I don't wanna die, I don't wanna die \n",
            "I don't wanna die, I don't wanna die \n",
            "Yeah \n",
            "I don't wanna die, I don't wanna die \n",
            "I don't wanna die, I don't\n",
            "====================\n",
            "Part of me is sad \n",
            "I don't want to die, I just want to see you \n",
            "Yeah, he's always there, always there \n",
            "It's funny if I'm sad, I'm sad, I'm sad \n",
            "I don't want to die, I just want to see you \n",
            "Yeah, he's always there, always there \n",
            "It's funny if I'm sad, I'm sad, I'm sad \n",
            "I don't want to die, I just want to see\n",
            "====================\n",
            "Part of me is sad (Sad, sad, sad) \n",
            "Yeah, I know you got a plan, so let me go \n",
            "With you, with you, with you (It's all mine) \n",
            "I know you got a plan (Hey, hey) \n",
            "It's all mine, but it's not mine (It's not mine) \n",
            "I know you got a plan (It's all mine, but it's not mine) \n",
            "It's all mine, but it's\n",
            "====================\n",
            "Part of me is sad, please leave me alone \n",
            "I'm just tryna find a way \n",
            "We can just talk, we can just talk \n",
            "We can just talk \n",
            "We can just talk \n",
            "I'm just tryna find a way \n",
            "We can just talk \n",
            "We can just talk \n",
            "We can just talk \n",
            "I'm just tryna find a way \n",
            "We can just talk \n",
            "We can just talk \n",
            "We can just talk \n",
            "We can just talk\n",
            "====================\n"
          ]
        }
      ]
    },
    {
      "cell_type": "code",
      "source": [
        "input_prompt = \"Part of me is excited\"\n",
        "gpt2.generate(sess, run_name=run_name, temperature=.7, length=100, prefix=input_prompt, top_k=40, nsamples=5)"
      ],
      "metadata": {
        "colab": {
          "base_uri": "https://localhost:8080/"
        },
        "id": "AKatuVahaFev",
        "outputId": "273acac1-8172-40c7-c4f5-548570ad0631"
      },
      "execution_count": null,
      "outputs": [
        {
          "output_type": "stream",
          "name": "stdout",
          "text": [
            "Part of me is excited \n",
            "All day long, I keep your mind \n",
            "It's okay to be you, I'ma keep you \n",
            "My mind's always on the action, I'ma hit ya \n",
            "But if you ain't with me, I don't care \n",
            "I ain't with you, I'ma be with you \n",
            "My mind's always on the action, I'ma hit ya \n",
            "But if you ain't with me, I'ma be with you \n",
            "\n",
            "====================\n",
            "Part of me is excited for the weekend, I'm so happy for you \n",
            "Yeah \n",
            "I'm so excited for the weekend, I'm so happy for you \n",
            "Yeah \n",
            "I'm so excited for the weekend, I'm so happy for you \n",
            "Yeah \n",
            "Yeah \n",
            "Yeah \n",
            "Yeah \n",
            "Yeah \n",
            "Yeah \n",
            "Yeah \n",
            "Yeah \n",
            "Yeah \n",
            "Yeah \n",
            "Yeah \n",
            "Yeah \n",
            "Yeah \n",
            "Yeah \n",
            "Yeah \n",
            "Yeah \n",
            "Yeah \n",
            "====================\n",
            "Part of me is excited \n",
            "It's just a thought I have to try and explain \n",
            "I'm just a little kid \n",
            "I don't know what I'm going to do \n",
            "I can't stop it \n",
            "We could be the people, that's just what I'm tryna sound like \n",
            "I'm just a little kid \n",
            "I don't know what I'm going to do \n",
            "I can't stop it \n",
            "We could be the people, that's just what I'm try\n",
            "====================\n",
            "Part of me is excited to get back home \n",
            "I'm a motherfuckin' dude, bitch \n",
            "I'ma be what I'm supposed to be \n",
            "I'ma be what I'm supposed to be, bitch \n",
            "I'ma be what I'm supposed to be \n",
            "I'ma be what I'm supposed to be \n",
            "That's what you get when you runnin' out of options \n",
            "Yeah, we goin' home drunk, bitch \n",
            "I'ma be what\n",
            "====================\n",
            "Part of me is excited, I need you to stay \n",
            "When I get older, I'ma do what I gotta (Do) \n",
            "Just make sure you know that I'ma keep on keepin' \n",
            "I'ma be right where I'm at (I'ma be right where I'm at) \n",
            "We a family, you a family \n",
            "Goddamn \n",
            "I feel so bad for you \n",
            "I'll be alright \n",
            "When I'm older, I'ma do\n",
            "====================\n"
          ]
        }
      ]
    },
    {
      "cell_type": "code",
      "source": [
        "input_prompt = \"Life moves on\"\n",
        "gpt2.generate(sess, run_name=run_name, temperature=.7, length=100, prefix=input_prompt, top_k=40, nsamples=5)"
      ],
      "metadata": {
        "colab": {
          "base_uri": "https://localhost:8080/"
        },
        "id": "gAPN1fTMapa_",
        "outputId": "bd7442d3-af3f-43a5-bb03-995d92d862ec"
      },
      "execution_count": null,
      "outputs": [
        {
          "output_type": "stream",
          "name": "stdout",
          "text": [
            "Life moves on, it's time to move on \n",
            "I don't need to move, it's time to move on \n",
            "I don't need to move, it's time to move on \n",
            "I don't need to move, it's time to move on \n",
            "I don't need to move, it's time to move on \n",
            "I don't need to move, it's time to move on \n",
            "I don't need to move, it's time to move on \n",
            "I\n",
            "====================\n",
            "Life moves on \n",
            "Yeah \n",
            "When you walkin' down the street \n",
            "You ain't never gon' see nobody else \n",
            "And I've found out that it never be the case \n",
            "When you walkin' along the street \n",
            "You ain't never gon' see nobody else \n",
            "And I've found out that it never be the case \n",
            "When you walkin' along the street \n",
            "You ain't never gon' see nobody else \n",
            "And I've found out that\n",
            "====================\n",
            "Life moves on \n",
            "This is not a war, these are our lives \n",
            "I was just a kid \n",
            "This is not a war, these are our lives \n",
            "I was just a kid \n",
            "This is not a war, these are our lives \n",
            "I was just a kid \n",
            "I was just a kid \n",
            "I was just a kid \n",
            "I was just a kid \n",
            "I was just a kid \n",
            "I was just a kid \n",
            "I was just a kid \n",
            "====================\n",
            "Life moves on \n",
            "I'ma move on \n",
            "Just like that \n",
            "Move on \n",
            "Move on \n",
            "Move on \n",
            "Move on \n",
            "Move on \n",
            "Move on \n",
            "Move on \n",
            "Move on \n",
            "Move on \n",
            "Move on \n",
            "Move on \n",
            "Move on \n",
            "Move on \n",
            "Move on \n",
            "Move on \n",
            "Move on \n",
            "Move on \n",
            "Move on \n",
            "Move on \n",
            "Move on \n",
            "Move on \n",
            "Move on\n",
            "====================\n",
            "Life moves on me, I move on ya feet \n",
            "All day, I'm just tryna get my life right \n",
            "It's like I ain't a doctor, but I know what I need \n",
            "And that's why I'm a graduate of the top ten \n",
            "And I ain't thinkin' 'bout nothin' \n",
            "I'ma be a good engineer \n",
            "I'm just tryna get my life right \n",
            "It's like I ain't a doctor, but I\n",
            "====================\n"
          ]
        }
      ]
    },
    {
      "cell_type": "code",
      "source": [
        "input_prompt = \"easy Mac with the cheesy raps\"\n",
        "gpt2.generate(sess, run_name=run_name, temperature=.7, length=100, prefix=input_prompt, top_k=40, nsamples=5)"
      ],
      "metadata": {
        "colab": {
          "base_uri": "https://localhost:8080/"
        },
        "id": "571h5MdvcyLG",
        "outputId": "3495edef-2676-49ad-cc31-33bbdb206573"
      },
      "execution_count": null,
      "outputs": [
        {
          "output_type": "stream",
          "name": "stdout",
          "text": [
            "easy Mac with the cheesy raps and all these raps that you posted up on your mind \n",
            "Yeah I'm all about the underdog, but I'm not stupid \n",
            "So I'ma be honest, yeah I'm gettin' money, yeah I'm gettin' fame \n",
            "I know you want one, I'ma be honest \n",
            "So I'ma be honest, I'm gettin' money, yeah I'm gettin' fame \n",
            "I know you want one, I'ma be honest\n",
            "====================\n",
            "easy Mac with the cheesy raps) \n",
            "Ayy, I'm just tryna be Mac, that's what I'm tryna do \n",
            "You know, you know, you know, you know, Mac (Ayy) \n",
            "Mac (Ayy), Mac \n",
            "Ayy, ayy, ayy, ayy, ayy \n",
            "Ayy, ayy, ayy, ayy, ayy \n",
            "Ayy \n",
            "Yeah, Mac \n",
            "Ayy, ayy, ayy\n",
            "====================\n",
            "easy Mac with the cheesy raps) \n",
            "I'm just tryna write some shit \n",
            "I want another Mac \n",
            "I'm just tryna write some shit \n",
            "I want another Mac \n",
            "I'm just tryna write some shit \n",
            "I want another Mac \n",
            "I'm just tryna write some shit \n",
            "I want another Mac \n",
            "I'm just tryna write some shit \n",
            "I want another Mac \n",
            "I'm just tryna write some shit \n",
            "I want another Mac \n",
            "I\n",
            "====================\n",
            "easy Mac with the cheesy raps) \n",
            "And the shit is so complicated, I ain't tryna explain it \n",
            "I'm just trying to figure out, how to do a better job \n",
            "If we can't fuck it, it's only right that we fuck it \n",
            "I'm trying to figure out how to do a better job \n",
            "If we can't fuck it, it's only right that we fuck it \n",
            "I'm tryna fuck it up to the top, let the rest sit \n",
            "\n",
            "====================\n",
            "easy Mac with the cheesy raps \n",
            "That's what Mac Miller is, Mac Miller is a Mac Miller \n",
            "Mac Miller is Mac Miller, Mac Miller is Mac Miller \n",
            "Mac Miller is Mac Miller is Mac Miller \n",
            "Mac Miller is Mac Miller, Mac Miller is Mac Miller \n",
            "Mac Miller is Mac Miller is Mac Miller \n",
            "Mac Miller is Mac Miller, Mac Miller is Mac Miller \n",
            "Mac Miller is Mac Miller, Mac Miller is Mac Miller \n",
            "Mac Miller is Mac Miller, Mac Miller is Mac Miller\n",
            "====================\n"
          ]
        }
      ]
    },
    {
      "cell_type": "code",
      "source": [
        "input_prompt = \"Fucking bitches\"\n",
        "gpt2.generate(sess, run_name=run_name, temperature=.7, length=100, prefix=input_prompt, top_k=40, nsamples=5)"
      ],
      "metadata": {
        "colab": {
          "base_uri": "https://localhost:8080/"
        },
        "id": "gGBx508EXarw",
        "outputId": "ee480e42-c177-4cf1-ed63-c0fdf7a78703"
      },
      "execution_count": 18,
      "outputs": [
        {
          "output_type": "stream",
          "name": "stdout",
          "text": [
            "Fucking bitches \n",
            "I ain't a bad girl, but I'm the baddest bitch in the world \n",
            "I got a reputation for being the bitchiest \n",
            "I got a reputation for being the bitchiest \n",
            "I got a reputation for being the bitchiest \n",
            "I got a reputation for being the bitchiest \n",
            "I got a reputation for being the bitchiest \n",
            "I got a reputation for being the bitchiest \n",
            "I got a reputation for being the bitchiest \n",
            "I got\n",
            "====================\n",
            "Fucking bitches, I'ma be \n",
            "They tell me that I need to get out of my skin, so I'ma go for it \n",
            "I'ma be high as a motherfucker, I'ma have it \n",
            "I'ma be smokin' weed, smoking some weed, fuck that \n",
            "I'ma be goin' out, I'ma be smoking some weed \n",
            "I'ma be high as a motherfucker, I'ma have it \n",
            "\n",
            "====================\n",
            "Fucking bitches, why you tryna fuck me? \n",
            "You're so different, I'm afraid you're not \n",
            "I'm the devil, you the devil, you the devil \n",
            "You're not, you're the devil \n",
            "You're not, you're the devil, you the devil \n",
            "You're not, you're the devil, you the devil \n",
            "You're not, you're the devil, you the devil \n",
            "You're not, you're the devil, you the\n",
            "====================\n",
            "Fucking bitches is a crime \n",
            "Yeah, I'm a bit old-fashioned, but I've been through it \n",
            "I've seen it all, so I know the difference \n",
            "I got the world on my shoulders, I'm all ears \n",
            "I'm a bit old-fashioned, but I've been through it \n",
            "I've seen it all, so I know the difference \n",
            "I got the world on my shoulders, I'm all ears \n",
            "I'm a bit old-fashioned\n",
            "====================\n",
            "Fucking bitches who wanna fuck with me \n",
            "I don't know what to do with this money, now I'ma break it down \n",
            "I'ma make it big, and we all gonna love it \n",
            "I'ma be in every single room I'm in \n",
            "Every single room, I'm in every single room \n",
            "I'ma be in every single room, I'm in every single room \n",
            "I'ma be in every single room, I'm in every single room \n",
            "====================\n"
          ]
        }
      ]
    }
  ]
}